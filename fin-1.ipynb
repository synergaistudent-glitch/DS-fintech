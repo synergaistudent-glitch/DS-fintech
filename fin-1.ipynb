{
 "cells": [
  {
   "cell_type": "markdown",
   "metadata": {},
   "source": [
    "## 📈 Technical Analysis of Apple (AAPL) Stock\n",
    "\n",
    "This Jupyter Notebook performs a comprehensive technical analysis on Apple's (AAPL) stock price data over the past five years. We will gather historical data, calculate key technical indicators, and visualize the findings to identify potential trading signals and trends."
   ]
  },
  {
   "cell_type": "markdown",
   "metadata": {},
   "source": [
    "### 💻 Setup and Data Collection\n",
    "\n",
    "First, we'll install and import the necessary libraries. The **`yfinance`** library is excellent for downloading data directly from Yahoo Finance. We'll define our stock ticker and a five-year date range."
   ]
  },
  {
   "cell_type": "code",
   "execution_count": null,
   "metadata": {},
   "outputs": [],
   "source": [
    "# Install required libraries if you haven't already\n",
    "# !pip install yfinance pandas numpy matplotlib mplfinance\n",
    "\n",
    "# Import necessary libraries\n",
    "import yfinance as yf\n",
    "import pandas as pd\n",
    "import numpy as np\n",
    "import matplotlib.pyplot as plt\n",
    "import mplfinance as mpf\n",
    "\n",
    "# Set a style for the plots for better visualization\n",
    "plt.style.use('fivethirtyeight')\n",
    "\n",
    "# Define the stock ticker and date range\n",
    "ticker = 'AAPL'\n",
    "start_date = '2020-08-27'\n",
    "end_date = '2025-08-27'\n",
    "\n",
    "# Fetch historical data\n",
    "try:\n",
    "    data = yf.download(ticker, start=start_date, end=end_date)\n",
    "    print(f\"Data for {ticker} successfully downloaded.\")\n",
    "    print(data.head())\n",
    "except Exception as e:\n",
    "    print(f\"Error fetching data: {e}\")"
   ]
  },
  {
   "cell_type": "markdown",
   "metadata": {},
   "source": [
    "### 🧹 Data Cleaning and Preparation\n",
    "\n",
    "We'll check for missing values and confirm the date column is set as the index in the correct format, which `yfinance` handles automatically."
   ]
  },
  {
   "cell_type": "code",
   "execution_count": null,
   "metadata": {},
   "outputs": [],
   "source": [
    "# Check for missing values\n",
    "print(\"\\nChecking for missing values:\")\n",
    "print(data.isnull().sum())\n",
    "\n",
    "# Confirm the 'Date' column is the index and in a datetime format\n",
    "print(f\"\\nIndex type: {data.index.dtype}\")\n",
    "print(f\"Column dtypes: \\n{data.dtypes}\")"
   ]
  },
  {
   "cell_type": "markdown",
   "metadata": {},
   "source": [
    "***"
   ]
  },
  {
   "cell_type": "markdown",
   "metadata": {},
   "source": [
    "### 📊 Technical Indicators Calculation\n",
    "\n",
    "Here, we will calculate several key indicators to help us analyze the stock's momentum and potential trading signals."
   ]
  },
  {
   "cell_type": "markdown",
   "metadata": {},
   "source": [
    "#### Simple Moving Average (SMA) & Exponential Moving Average (EMA)\n",
    "\n",
    "Moving averages help smooth out price data to identify the trend direction. We will use short-term (20-day) and long-term (50-day) periods."
   ]
  },
  {
   "cell_type": "code",
   "execution_count": null,
   "metadata": {},
   "outputs": [],
   "source": [
    "# Calculate SMAs and EMAs\n",
    "data['SMA_20'] = data['Close'].rolling(window=20).mean()\n",
    "data['SMA_50'] = data['Close'].rolling(window=50).mean()\n",
    "data['EMA_20'] = data['Close'].ewm(span=20, adjust=False).mean()\n",
    "data['EMA_50'] = data['Close'].ewm(span=50, adjust=False).mean()\n",
    "\n",
    "# Drop initial rows with NaN values resulting from the moving average calculations\n",
    "data.dropna(inplace=True)\n",
    "print(\"\\nData with moving averages added:\")\n",
    "print(data.tail())"
   ]
  },
  {
   "cell_type": "markdown",
   "metadata": {},
   "source": [
    "#### Relative Strength Index (RSI)\n",
    "\n",
    "The **RSI** is a momentum oscillator from 0 to 100, used to identify **overbought** (RSI > 70) or **oversold** (RSI < 30) conditions. We will use a standard 14-day window."
   ]
  },
  {
   "cell_type": "code",
   "execution_count": null,
   "metadata": {},
   "outputs": [],
   "source": [
    "def calculate_rsi(data, window=14):\n",
    "    \"\"\"Calculates the Relative Strength Index (RSI)\"\"\"\n",
    "    delta = data['Close'].diff()\n",
    "    gain = (delta.where(delta > 0, 0)).rolling(window=window).mean()\n",
    "    loss = (-delta.where(delta < 0, 0)).rolling(window=window).mean()\n",
    "    rs = gain / loss\n",
    "    rsi = 100 - (100 / (1 + rs))\n",
    "    return rsi\n",
    "\n",
    "data['RSI'] = calculate_rsi(data, window=14)\n",
    "print(\"\\nData with RSI added:\")\n",
    "print(data.tail())"
   ]
  },
  {
   "cell_type": "markdown",
   "metadata": {},
   "source": [
    "#### Moving Average Convergence Divergence (MACD)\n",
    "\n",
    "The **MACD** is a trend-following momentum indicator. It's the difference between the 12-period and 26-period EMA. A 9-period EMA of the MACD itself forms the **signal line**."
   ]
  },
  {
   "cell_type": "code",
   "execution_count": null,
   "metadata": {},
   "outputs": [],
   "source": [
    "# Calculate MACD\n",
    "exp1 = data['Close'].ewm(span=12, adjust=False).mean()\n",
    "exp2 = data['Close'].ewm(span=26, adjust=False).mean()\n",
    "data['MACD'] = exp1 - exp2\n",
    "data['Signal_Line'] = data['MACD'].ewm(span=9, adjust=False).mean()\n",
    "\n",
    "print(\"\\nData with MACD and Signal Line added:\")\n",
    "print(data.tail())"
   ]
  },
  {
   "cell_type": "markdown",
   "metadata": {},
   "source": [
    "***"
   ]
  },
  {
   "cell_type": "markdown",
   "metadata": {},
   "source": [
    "### 📈 Data Visualization\n",
    "\n",
    "Visualizing the data is crucial for technical analysis. We'll use several plots to illustrate the stock's price movements and the calculated indicators."
   ]
  },
  {
   "cell_type": "markdown",
   "metadata": {},
   "source": [
    "#### Stock Price and Moving Averages\n",
    "\n",
    "This plot shows the raw stock price alongside the SMA and EMA lines, which can act as **dynamic support and resistance levels**."
   ]
  },
  {
   "cell_type": "code",
   "execution_count": null,
   "metadata": {},
   "outputs": [],
   "source": [
    "plt.figure(figsize=(14, 7))\n",
    "plt.plot(data['Close'], label='Close Price', color='black')\n",
    "plt.plot(data['SMA_20'], label='20-Day SMA', color='orange', linestyle='--')\n",
    "plt.plot(data['SMA_50'], label='50-Day SMA', color='purple', linestyle='--')\n",
    "plt.plot(data['EMA_20'], label='20-Day EMA', color='cyan')\n",
    "plt.plot(data['EMA_50'], label='50-Day EMA', color='magenta')\n",
    "plt.title(f'{ticker} Stock Price with Moving Averages')\n",
    "plt.xlabel('Date')\n",
    "plt.ylabel('Price (USD)')\n",
    "plt.legend()\n",
    "plt.grid(True)\n",
    "plt.show()"
   ]
  },
  {
   "cell_type": "markdown",
   "metadata": {},
   "source": [
    "#### RSI and MACD Subplots\n",
    "\n",
    "This setup provides a comprehensive view by placing the RSI and MACD plots directly below the main price chart."
   ]
  },
  {
   "cell_type": "code",
   "execution_count": null,
   "metadata": {},
   "outputs": [],
   "source": [
    "fig, (ax1, ax2, ax3) = plt.subplots(3, 1, figsize=(16, 12), sharex=True)\n",
    "\n",
    "# Plot 1: Close Price with Moving Averages\n",
    "ax1.plot(data['Close'], label='Close Price', color='black')\n",
    "ax1.plot(data['SMA_20'], label='20-Day SMA', color='orange', linestyle='--')\n",
    "ax1.plot(data['SMA_50'], label='50-Day SMA', color='purple', linestyle='--')\n",
    "ax1.set_title(f'{ticker} Stock Price and Moving Averages')\n",
    "ax1.set_ylabel('Price (USD)')\n",
    "ax1.legend(loc='upper left')\n",
    "ax1.grid(True)\n",
    "\n",
    "# Plot 2: RSI\n",
    "ax2.plot(data['RSI'], label='RSI', color='blue')\n",
    "ax2.axhline(70, linestyle='--', color='red', label='Overbought (70)')\n",
    "ax2.axhline(30, linestyle='--', color='green', label='Oversold (30)')\n",
    "ax2.set_title('Relative Strength Index (RSI)')\n",
    "ax2.set_ylabel('RSI')\n",
    "ax2.legend(loc='upper left')\n",
    "ax2.grid(True)\n",
    "\n",
    "# Plot 3: MACD\n",
    "ax3.plot(data['MACD'], label='MACD Line', color='blue')\n",
    "ax3.plot(data['Signal_Line'], label='Signal Line', color='red', linestyle='--')\n",
    "ax3.set_title('MACD')\n",
    "ax3.set_xlabel('Date')\n",
    "ax3.set_ylabel('Value')\n",
    "ax3.legend(loc='upper left')\n",
    "ax3.grid(True)\n",
    "plt.tight_layout()\n",
    "plt.show()"
   ]
  },
  {
   "cell_type": "markdown",
   "metadata": {},
   "source": [
    "#### Candlestick Chart\n",
    "\n",
    "A **candlestick chart** provides a more detailed look at daily price movements, showing open, high, low, and close prices. This is excellent for identifying specific **chart patterns**."
   ]
  },
  {
   "cell_type": "code",
   "execution_count": null,
   "metadata": {},
   "outputs": [],
   "source": [
    "# Create a candlestick chart\n",
    "mpf.plot(data, type='candle', style='yahoo', \n",
    "         title=f'{ticker} Candlestick Chart', \n",
    "         ylabel='Price', \n",
    "         volume=True, \n",
    "         figratio=(15, 8))"
   ]
  },
  {
   "cell_type": "markdown",
   "metadata": {},
   "source": [
    "***"
   ]
  },
  {
   "cell_type": "markdown",
   "metadata": {},
   "source": [
    "### 📝 Analysis and Interpretation\n",
    "\n",
    "#### Trends and Patterns\n",
    "\n",
    "The charts show that AAPL has been in a strong **long-term uptrend** over the past five years. Its price generally stays above the long-term moving averages, and pullbacks often find support at these lines. This indicates a consistent bullish sentiment.\n",
    "\n",
    "#### Trading Signals from Indicators\n",
    "\n",
    "- **Moving Average Crossovers:** A **golden cross** (20-day SMA crossing above 50-day SMA) is a **bullish signal** and a potential buy indicator. The opposite, a **death cross**, is a **bearish signal**.\n",
    "- **RSI:** When the **RSI is above 70**, it suggests the stock is overbought and may be due for a correction. When the **RSI falls below 30**, it suggests the stock is oversold and could be a buying opportunity.\n",
    "- **MACD:** A **bullish crossover** occurs when the MACD line crosses above the signal line, indicating increasing upward momentum. A **bearish crossover** suggests downward momentum is gaining.\n",
    "\n",
    "#### Summary for Investors\n",
    "\n",
    "Based on this technical analysis, Apple has demonstrated a robust, long-term upward trend. Investors can use the moving averages as dynamic support levels for identifying good entry points. The RSI and MACD indicators provide additional confirmation for short-term trading signals. However, remember that these tools are best used in conjunction with fundamental analysis and a thorough understanding of market conditions. This analysis is for educational purposes only and should not be considered financial advice."
   ]
  },
  {
   "cell_type": "markdown",
   "metadata": {},
   "source": [
    "***"
   ]
  },
  {
   "cell_type": "markdown",
   "metadata": {},
   "source": [
    "### 📚 References\n",
    "\n",
    "* **Yahoo Finance:** Data source for historical stock prices.\n",
    "* **Pandas & NumPy:** Essential libraries for data manipulation and numerical operations.\n",
    "* **Matplotlib & mplfinance:** Libraries used for data visualization.\n",
    "* **Technical Analysis Concepts:** The methodology used is based on standard technical analysis principles as described in works such as *Technical Analysis of the Financial Markets* by John J. Murphy."
   ]
  }
 ],
 "metadata": {
  "kernelspec": {
   "display_name": "Python 3",
   "language": "python",
   "name": "python3"
  },
  "language_info": {
   "codemirror_mode": {
    "name": "ipython",
    "version": 3
   },
   "file_extension": ".py",
   "mimetype": "text/x-python",
   "name": "python",
   "nbconvert_exporter": "python",
   "pygments_lexer": "ipython3",
   "version": "3.10.12"
  }
 },
 "nbformat": 4,
 "nbformat_minor": 4
}